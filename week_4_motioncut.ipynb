{
  "nbformat": 4,
  "nbformat_minor": 0,
  "metadata": {
    "colab": {
      "provenance": [],
      "authorship_tag": "ABX9TyPvGJFjqa3adZp6R8dPRJfW",
      "include_colab_link": true
    },
    "kernelspec": {
      "name": "python3",
      "display_name": "Python 3"
    },
    "language_info": {
      "name": "python"
    }
  },
  "cells": [
    {
      "cell_type": "markdown",
      "metadata": {
        "id": "view-in-github",
        "colab_type": "text"
      },
      "source": [
        "<a href=\"https://colab.research.google.com/github/poiuyytee/amulya/blob/main/week_4_motioncut.ipynb\" target=\"_parent\"><img src=\"https://colab.research.google.com/assets/colab-badge.svg\" alt=\"Open In Colab\"/></a>"
      ]
    },
    {
      "cell_type": "code",
      "execution_count": 2,
      "metadata": {
        "colab": {
          "base_uri": "https://localhost:8080/"
        },
        "id": "IXLLjsH5iOOX",
        "outputId": "34d4030d-149a-4281-b6c5-a902951dcdfe"
      },
      "outputs": [
        {
          "output_type": "stream",
          "name": "stdout",
          "text": [
            "Welcome to the Password Generator!\n",
            "Enter the desired password length: 15\n",
            "Enter the number of passwords to generate: 6\n",
            "\n",
            "Generated Passwords:\n",
            "C8l\"i}FGQy#V&$X\n",
            "aB,~^()uR4azdGr\n",
            "_hWfH}hfgrLIQR=\n",
            "rz|wY$&6j4@KAsO\n",
            "sQI:NdMJdOHt-;*\n",
            "2}_HW/^41~hU6a~\n",
            "\n",
            "Do you want to generate more passwords? (yes/no): no\n",
            "Thank you for using the Password Generator. Goodbye!\n"
          ]
        }
      ],
      "source": [
        "import random\n",
        "import string\n",
        "\n",
        "def generate_password(length=12):\n",
        "    \"\"\"Generate a random password.\"\"\"\n",
        "    characters = string.ascii_letters + string.digits + string.punctuation\n",
        "    password = ''.join(random.choice(characters) for _ in range(length))\n",
        "    return password\n",
        "\n",
        "def get_user_input():\n",
        "    \"\"\"Prompt the user for password length and quantity.\"\"\"\n",
        "    length = int(input(\"Enter the desired password length: \"))\n",
        "    quantity = int(input(\"Enter the number of passwords to generate: \"))\n",
        "    return length, quantity\n",
        "\n",
        "def main():\n",
        "    print(\"Welcome to the Password Generator!\")\n",
        "\n",
        "    while True:\n",
        "        length, quantity = get_user_input()\n",
        "\n",
        "        if length <= 0 or quantity <= 0:\n",
        "            print(\"Invalid input. Length and quantity must be positive integers.\")\n",
        "            continue\n",
        "\n",
        "        print(\"\\nGenerated Passwords:\")\n",
        "        for _ in range(quantity):\n",
        "            password = generate_password(length)\n",
        "            print(password)\n",
        "\n",
        "        another_round = input(\"\\nDo you want to generate more passwords? (yes/no): \").lower()\n",
        "        if another_round != 'yes':\n",
        "            print(\"Thank you for using the Password Generator. Goodbye!\")\n",
        "            break\n",
        "\n",
        "if __name__ == \"__main__\":\n",
        "    main()\n"
      ]
    },
    {
      "cell_type": "markdown",
      "source": [
        "Features and Considerations:\n",
        "\n",
        "Password Generation: The generate_password function creates a random password with a mix of uppercase and lowercase letters, numbers, and special characters.\n",
        "\n",
        "User Input: The get_user_input function prompts the user for the desired password length and the number of passwords to generate.\n",
        "\n",
        "Looping Interface: The main function presents a user-friendly interface where the user can repeatedly generate passwords until they choose to exit.\n",
        "\n",
        "Error Handling: The program checks for invalid inputs and guides the user to provide valid information.\n",
        "\n",
        "Best Practices: The password generator adheres to best practices by using Python's random library and incorporating a mix of character types to enhance security."
      ],
      "metadata": {
        "id": "g79DhrpqiqWq"
      }
    }
  ]
}