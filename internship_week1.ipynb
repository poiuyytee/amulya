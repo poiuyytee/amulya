{
  "nbformat": 4,
  "nbformat_minor": 0,
  "metadata": {
    "colab": {
      "provenance": [],
      "authorship_tag": "ABX9TyPw0fX5S3v6MhNcywmrmpnA",
      "include_colab_link": true
    },
    "kernelspec": {
      "name": "python3",
      "display_name": "Python 3"
    },
    "language_info": {
      "name": "python"
    }
  },
  "cells": [
    {
      "cell_type": "markdown",
      "metadata": {
        "id": "view-in-github",
        "colab_type": "text"
      },
      "source": [
        "<a href=\"https://colab.research.google.com/github/poiuyytee/amulya/blob/main/internship_week1.ipynb\" target=\"_parent\"><img src=\"https://colab.research.google.com/assets/colab-badge.svg\" alt=\"Open In Colab\"/></a>"
      ]
    },
    {
      "cell_type": "code",
      "source": [
        "import random\n",
        "\n",
        "def display_question(question, options):\n",
        "    print(question)\n",
        "    for i, option in enumerate(options, start=1):\n",
        "        print(f\"{i}. {option}\")\n",
        "    return int(input(\"Your answer: \"))\n",
        "\n",
        "def evaluate_answer(user_answer, correct_answer, score):\n",
        "    if user_answer == correct_answer:\n",
        "        print(\"Correct!\")\n",
        "        return score + 1\n",
        "    else:\n",
        "        print(f\"Incorrect. The correct answer is {correct_answer}.\")\n",
        "        return score\n",
        "\n",
        "def run_quiz():\n",
        "    questions = [\n",
        "        {\"question\": \"Which planet is known as the Red Planet?\", \"options\": [\"Earth\", \"Mars\", \"Jupiter\"], \"correct_answer\": 2},\n",
        "        {\"question\": \"Who wrote 'Romeo and Juliet'?\", \"options\": [\"Charles Dickens\", \"William Shakespeare\", \"Jane Austen\"], \"correct_answer\": 2},\n",
        "        {\"question\": \"What is the main ingredient in guacamole?\", \"options\": [\"Tomato\", \"Avocado\", \"Onion\"], \"correct_answer\": 2},\n",
        "    ]\n",
        "\n",
        "    score = 0\n",
        "\n",
        "    for question_data in questions:\n",
        "        user_answer = display_question(question_data[\"question\"], question_data[\"options\"])\n",
        "        score = evaluate_answer(user_answer, question_data[\"correct_answer\"], score)\n",
        "        print()\n",
        "\n",
        "    print(f\"Your final score is {score}/{len(questions)}.\")\n",
        "\n",
        "if __name__ == \"__main__\":\n",
        "    run_quiz()\n"
      ],
      "metadata": {
        "colab": {
          "base_uri": "https://localhost:8080/"
        },
        "id": "5DOHd2N4HORX",
        "outputId": "6019b28d-591c-46d8-a9b9-262213dcbb6c"
      },
      "execution_count": 5,
      "outputs": [
        {
          "output_type": "stream",
          "name": "stdout",
          "text": [
            "Which planet is known as the Red Planet?\n",
            "1. Earth\n",
            "2. Mars\n",
            "3. Jupiter\n",
            "Your answer: 2\n",
            "Correct!\n",
            "\n",
            "Who wrote 'Romeo and Juliet'?\n",
            "1. Charles Dickens\n",
            "2. William Shakespeare\n",
            "3. Jane Austen\n",
            "Your answer: 2\n",
            "Correct!\n",
            "\n",
            "What is the main ingredient in guacamole?\n",
            "1. Tomato\n",
            "2. Avocado\n",
            "3. Onion\n",
            "Your answer: 2\n",
            "Correct!\n",
            "\n",
            "Your final score is 3/3.\n"
          ]
        }
      ]
    },
    {
      "cell_type": "markdown",
      "source": [
        "## **Quiz Game Implementation Overview:**\n",
        "\n",
        "**Design Choices:**\n",
        "\n",
        "Modularity: The code is organized into functions (display_question, evaluate_answer, run_quiz) for better readability and maintainability. Each function has a specific responsibility, contributing to the overall structure of the program.\n",
        "\n",
        "Data Structure: Questions are represented as dictionaries containing the question, options, and the index of the correct answer. This choice allows for easy customization and scalability.\n",
        "\n",
        "User Interaction: The input function is used to get user responses, providing a simple and straightforward way for users to participate in the quiz.\n",
        "\n",
        "Scoring System: A basic scoring system is implemented by assigning one point for each correct answer. This system is easy to understand and serves the purpose for a basic quiz game.\n",
        "\n",
        "**Features:**\n",
        "\n",
        "Dynamic Question Generation: Questions are stored in a list, allowing for easy customization. You can add, remove, or modify questions without affecting the overall structure of the code.\n",
        "\n",
        " Feedback Mechanism: The game provides feedback on whether the user's answer is correct or incorrect, along with the correct answer in case of an incorrect response. This enhances the learning experience for users.\n",
        "\n",
        "\n",
        "\n",
        "**Challenges:**\n",
        "\n",
        "User Input Handling: Validating user input is crucial to ensure the program doesn't break due to unexpected input. In this implementation, it assumes the user will input a valid integer, and error handling for non-integer inputs is not extensively covered.\n",
        "\n",
        "Scalability: While the code structure is suitable for a basic quiz, a more sophisticated application might require additional features, such as handling different types of questions (e.g., multiple answers, true/false) or integrating a database for storing questions.\n",
        "\n",
        "Localization: The code assumes English as the language for questions and answers. Adapting the code for multilingual support would require additional considerations.\n",
        "\n",
        "\n",
        "**Conclusion:**\n",
        "This implementation serves as a foundation for a basic quiz game, emphasizing simplicity and ease of customization. Future improvements could add complexity and enhance the user experience based on specific requirements. The outlined challenges and future improvements provide a roadmap for extending and refining the quiz game.\n"
      ],
      "metadata": {
        "id": "6sB0t6kbF7uh"
      }
    },
    {
      "cell_type": "markdown",
      "source": [],
      "metadata": {
        "id": "gSYE3KTRFtue"
      }
    }
  ]
}