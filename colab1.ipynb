{
  "cells": [
    {
      "cell_type": "markdown",
      "metadata": {
        "id": "view-in-github",
        "colab_type": "text"
      },
      "source": [
        "<a href=\"https://colab.research.google.com/github/poiuyytee/amulya/blob/main/colab1.ipynb\" target=\"_parent\"><img src=\"https://colab.research.google.com/assets/colab-badge.svg\" alt=\"Open In Colab\"/></a>"
      ]
    },
    {
      "cell_type": "code",
      "execution_count": null,
      "metadata": {
        "colab": {
          "background_save": true
        },
        "id": "qwltqflbYbR6"
      },
      "outputs": [],
      "source": [
        "import sys\n",
        "class Graph():\n",
        " def _init_(self, vertices):\n",
        " self.V = vertices\n",
        " self.graph = [[0 for column in range(vertices)]\n",
        " for row in range(vertices)]\n",
        " def printSolution(self, dist):\n",
        " print(\"Vertex \\tDistance from source\")\n",
        " for node in range(self.V):\n",
        " print(node, \"\\t\", dist[node])\n",
        " def minDistance(self, dist, sptSet):\n",
        " min_val = sys.maxsize\n",
        " for u in range(self.V):\n",
        " if dist[u] < min_val and sptSet[u] == False:\n",
        " min_val = dist[u]\n",
        " min_index = u\n",
        " return min_index\n",
        " def dijkstra(self, src):\u0000\n",
        "ROLL NUMBER:HU21CSEN0500091\n",
        " dist = [sys.maxsize] * self.V\n",
        " dist[src] = 0\n",
        " sptSet = [False] * self.V\n",
        " for cout in range(self.V):\n",
        " x = self.minDistance(dist, sptSet)\n",
        " sptSet[x] = True\n",
        " for y in range(self.V):\n",
        " if self.graph[x][y] > 0 and sptSet[y] == False and \\\n",
        " dist[y] > dist[x] + self.graph[x][y]:\n",
        " dist[y] = dist[x] + self.graph[x][y]\n",
        " self.printSolution(dist)\n",
        "g = Graph(9)\n",
        "g.graph = [[0, 4, 0, 0, 0, 0, 0, 8, 0],\n",
        " [4, 0, 8, 0, 0, 0, 0, 11, 0],\n",
        " [0, 8, 0, 7, 0, 4, 0, 0, 2],\n",
        " [0, 0, 7, 0, 9, 14, 0, 0, 0],\n",
        " [0, 0, 0, 9, 0, 10, 0, 0, 0],\n",
        " [0, 0, 4, 14, 10, 0, 2, 0, 0],\n",
        " [0, 0, 0, 0, 0, 2, 0, 1, 6],\n",
        " [8, 11, 0, 0, 0, 0, 1, 0, 7],\n",
        " [0, 0, 2, 0, 0, 0, 6, 7, 8]]\n",
        "g.dijkstra(0)"
      ]
    }
  ],
  "metadata": {
    "colab": {
      "provenance": [],
      "include_colab_link": true
    },
    "kernelspec": {
      "display_name": "Python 3",
      "name": "python3"
    },
    "language_info": {
      "name": "python"
    }
  },
  "nbformat": 4,
  "nbformat_minor": 0
}