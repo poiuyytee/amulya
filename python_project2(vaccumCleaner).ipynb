{
  "cells": [
    {
      "cell_type": "markdown",
      "metadata": {
        "id": "view-in-github",
        "colab_type": "text"
      },
      "source": [
        "<a href=\"https://colab.research.google.com/github/poiuyytee/amulya/blob/main/python_project2(vaccumCleaner).ipynb\" target=\"_parent\"><img src=\"https://colab.research.google.com/assets/colab-badge.svg\" alt=\"Open In Colab\"/></a>"
      ]
    },
    {
      "cell_type": "code",
      "execution_count": null,
      "metadata": {
        "colab": {
          "background_save": true,
          "base_uri": "https://localhost:8080/"
        },
        "id": "ZfOC75bLe5Xa",
        "outputId": "d1d7216b-0de0-4587-966a-1ed219407a2b"
      },
      "outputs": [
        {
          "name": "stdout",
          "output_type": "stream",
          "text": [
            "Goal State Required: {'A': 0, 'B': 0, 'C': 0}\n",
            "Vacuum is placed in Location c\n"
          ]
        }
      ],
      "source": [
        "def printInformation(location):\n",
        "    print(\"Location \" + location + \" is Dirty.\")\n",
        "    print(\"Cost for CLEANING \" + location + \": 1\")\n",
        "    print(\"Location \" + location + \" has been Cleaned.\")\n",
        "\n",
        "\n",
        "def vacuumCleaner(goalState, currentState, location):\n",
        "    # printing necessary data\n",
        "    print(\"Goal State Required:\", goalState)\n",
        "    print(\"Vacuum is placed in Location \" + location)\n",
        "\n",
        "    # cleaning locations\n",
        "    totalCost = 0\n",
        "\n",
        "    while (currentState != goalState):\n",
        "        if (location == \"A\"):\n",
        "            # cleaning\n",
        "            if (currentState[\"A\"] == 1):\n",
        "                currentState[\"A\"] = 0\n",
        "                totalCost += 1\n",
        "                printInformation(\"A\")\n",
        "            # moving\n",
        "            if (currentState[\"B\"] == 1 or currentState[\"C\"] == 1):\n",
        "                print(\"Moving right to the location B.\\nCost for moving RIGHT: 1\")\n",
        "                location = \"B\"\n",
        "                totalCost += 1\n",
        "\n",
        "        elif (location == \"B\"):\n",
        "            # cleaning\n",
        "            if (currentState[\"B\"] == 1):\n",
        "                currentState[\"B\"] = 0\n",
        "                totalCost += 1\n",
        "                printInformation(\"B\")\n",
        "            # moving\n",
        "            if (currentState[\"A\"] == 1):\n",
        "                print(\"Moving left to the location A.\\nCost for moving LEFT: 1\")\n",
        "                location = \"A\"\n",
        "                totalCost += 1\n",
        "            elif (currentState[\"C\"] == 1):\n",
        "                print(\"Moving right to the location C.\\nCost for moving RIGHT: 1\")\n",
        "                location = \"C\"\n",
        "                totalCost += 1\n",
        "\n",
        "        elif (location == \"C\"):\n",
        "            # cleaning\n",
        "            if (currentState[\"C\"] == 1):\n",
        "                currentState[\"C\"] = 0\n",
        "                totalCost += 1\n",
        "                printInformation(\"C\")\n",
        "            # moving\n",
        "            if (currentState[\"A\"] == 1 or currentState[\"B\"] == 1):\n",
        "                print(\"Moving left to the location B.\\nCost for moving LEFT: 1\")\n",
        "                location = \"B\"\n",
        "                totalCost += 1\n",
        "    print(\"GOAL STATE:\", currentState)\n",
        "    return totalCost\n",
        "\n",
        "\n",
        "# declaring dictionaries\n",
        "goalState = {\"A\": 0, \"B\": 0, \"C\": 0}\n",
        "currentState = {\"A\": -1, \"B\": -1, \"C\": -1}\n",
        "\n",
        "# taking input from user\n",
        "location = input(\"Enter Location of Vacuum (A/B/C): \");\n",
        "currentState[\"A\"] = int(input(\"Enter status of A (0/1): \"))\n",
        "currentState[\"B\"] = int(input(\"Enter status of B (0/1): \"))\n",
        "currentState[\"C\"] = int(input(\"Enter status of C (0/1): \"))\n",
        "\n",
        "# calling function\n",
        "totalCost = vacuumCleaner(goalState, currentState, location)\n",
        "print(\"Performance Measurement:\", totalCost)"
      ]
    }
  ],
  "metadata": {
    "colab": {
      "provenance": [],
      "include_colab_link": true
    },
    "kernelspec": {
      "display_name": "Python 3",
      "name": "python3"
    },
    "language_info": {
      "name": "python"
    }
  },
  "nbformat": 4,
  "nbformat_minor": 0
}