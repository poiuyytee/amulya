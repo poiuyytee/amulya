{
  "nbformat": 4,
  "nbformat_minor": 0,
  "metadata": {
    "colab": {
      "provenance": [],
      "include_colab_link": true
    },
    "kernelspec": {
      "name": "python3",
      "display_name": "Python 3"
    },
    "language_info": {
      "name": "python"
    }
  },
  "cells": [
    {
      "cell_type": "markdown",
      "metadata": {
        "id": "view-in-github",
        "colab_type": "text"
      },
      "source": [
        "<a href=\"https://colab.research.google.com/github/poiuyytee/amulya/blob/main/minimumcostsimplepath.ipynb\" target=\"_parent\"><img src=\"https://colab.research.google.com/assets/colab-badge.svg\" alt=\"Open In Colab\"/></a>"
      ]
    },
    {
      "cell_type": "code",
      "execution_count": null,
      "metadata": {
        "colab": {
          "base_uri": "https://localhost:8080/"
        },
        "id": "SgTJAMJcmcSE",
        "outputId": "5301689d-fb27-4046-c5c0-9c3cdeaae145"
      },
      "outputs": [
        {
          "output_type": "stream",
          "name": "stdout",
          "text": [
            "Minimum Cost from 0 to 2 is -3\n"
          ]
        }
      ],
      "source": [
        "import sys\n",
        "\n",
        "V = 5\n",
        "INF = sys.maxsize\n",
        "\n",
        "def minimumCostSimplePath(u, destination, visited, graph):\n",
        "    if u == destination:\n",
        "        return 0\n",
        "\n",
        "    visited[u] = 1\n",
        "    ans = INF\n",
        "\n",
        "    for i in range(V):\n",
        "        if graph[u][i] != INF and not visited[i]:\n",
        "            curr = minimumCostSimplePath(i, destination, visited, graph)\n",
        "            if curr < INF:\n",
        "                ans = min(ans, graph[u][i] + curr)\n",
        "\n",
        "    visited[u] = 0\n",
        "    return ans\n",
        "\n",
        "if __name__ == \"__main__\":\n",
        "    graph = [\n",
        "        [INF, -1, INF, 1, INF],\n",
        "        [INF, INF, -2, INF, INF],\n",
        "        [-3, INF, INF, INF, INF],\n",
        "        [INF, INF, -1, INF, INF],\n",
        "        [INF, INF, INF, 2, INF]\n",
        "    ]\n",
        "\n",
        "    visited = [0 for i in range(V)]\n",
        "    s = 0\n",
        "    t = 2\n",
        "    visited[s] = 1\n",
        "\n",
        "    result = minimumCostSimplePath(s, t, visited, graph)\n",
        "\n",
        "    if result < INF:\n",
        "        print(f\"Minimum Cost from {s} to {t} is {result}\")\n",
        "    else:\n",
        "        print(f\"No simple path from {s} to {t}\")\n",
        "\n"
      ]
    }
  ]
}