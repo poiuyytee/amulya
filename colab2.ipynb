{
  "nbformat": 4,
  "nbformat_minor": 0,
  "metadata": {
    "colab": {
      "provenance": [],
      "include_colab_link": true
    },
    "kernelspec": {
      "name": "python3",
      "display_name": "Python 3"
    },
    "language_info": {
      "name": "python"
    }
  },
  "cells": [
    {
      "cell_type": "markdown",
      "metadata": {
        "id": "view-in-github",
        "colab_type": "text"
      },
      "source": [
        "<a href=\"https://colab.research.google.com/github/poiuyytee/amulya/blob/main/colab2.ipynb\" target=\"_parent\"><img src=\"https://colab.research.google.com/assets/colab-badge.svg\" alt=\"Open In Colab\"/></a>"
      ]
    },
    {
      "cell_type": "code",
      "execution_count": null,
      "metadata": {
        "colab": {
          "base_uri": "https://localhost:8080/"
        },
        "id": "LT98K2lzRqMB",
        "outputId": "e24ce501-7e10-4956-87d0-73b5132b431c"
      },
      "outputs": [
        {
          "output_type": "stream",
          "name": "stdout",
          "text": [
            "yes there is a match!\n"
          ]
        }
      ],
      "source": [
        "import re\n",
        "txt=\"amulya roll no is hu21csen0500091\"\n",
        "x=re.search(\"^amulya.*091$\",txt)\n",
        "if x:\n",
        "  print(\"yes there is a match!\")\n",
        "else:\n",
        "   print(\"no match found :(\")"
      ]
    },
    {
      "cell_type": "code",
      "source": [
        "import re\n",
        "\n",
        "txt = \"don't trouble the trouble if you trouble the trouble troubles you i'm not the trouble i'm the truth\"\n",
        "\n",
        "x = re.findall(\"[i-o]\", txt)\n",
        "print(x)"
      ],
      "metadata": {
        "colab": {
          "base_uri": "https://localhost:8080/"
        },
        "id": "v5CGungcUXCT",
        "outputId": "797b14ef-b42a-4d32-d7ae-e251bc7165ff"
      },
      "execution_count": null,
      "outputs": [
        {
          "output_type": "stream",
          "name": "stdout",
          "text": [
            "['o', 'n', 'o', 'l', 'o', 'l', 'i', 'o', 'o', 'l', 'o', 'l', 'o', 'l', 'o', 'i', 'm', 'n', 'o', 'o', 'l', 'i', 'm']\n"
          ]
        }
      ]
    },
    {
      "cell_type": "code",
      "source": [
        "import re\n",
        "\n",
        "txt = \"amulya roll no is hu21csen0500091\"\n",
        "\n",
        "\n",
        "\n",
        "x = re.findall(\"\\d\", txt)\n",
        "print(x)"
      ],
      "metadata": {
        "colab": {
          "base_uri": "https://localhost:8080/"
        },
        "id": "s0Cgorn-UzHg",
        "outputId": "c4ed441c-5fa7-4b7e-da2f-bc6e9ed491ff"
      },
      "execution_count": null,
      "outputs": [
        {
          "output_type": "stream",
          "name": "stdout",
          "text": [
            "['2', '1', '0', '5', '0', '0', '0', '9', '1']\n"
          ]
        }
      ]
    },
    {
      "cell_type": "code",
      "source": [
        "import re\n",
        "\n",
        "txt = \"amulya is alekya\"\n",
        "\n",
        "\n",
        "x = re.findall(\"a...ya\", txt)\n",
        "print(x)\n"
      ],
      "metadata": {
        "colab": {
          "base_uri": "https://localhost:8080/"
        },
        "id": "2pSsIt6kVAS0",
        "outputId": "340fed4b-9300-4e46-bf60-1ea2d66c10e5"
      },
      "execution_count": null,
      "outputs": [
        {
          "output_type": "stream",
          "name": "stdout",
          "text": [
            "['amulya', 'alekya']\n"
          ]
        }
      ]
    },
    {
      "cell_type": "code",
      "source": [
        "import re\n",
        "\n",
        "txt = \"amulya roll no is hu21csen0500091\"\n",
        "\n",
        "\n",
        "\n",
        "x = re.findall(\"^roll\", txt)\n",
        "if x:\n",
        "  print(\"Yes, the string starts with roll'\")\n",
        "else:\n",
        "  print(\"No match\")"
      ],
      "metadata": {
        "colab": {
          "base_uri": "https://localhost:8080/"
        },
        "id": "w3_Cy8lKVODU",
        "outputId": "3b4644fd-8a54-489f-f403-1838b19dab35"
      },
      "execution_count": null,
      "outputs": [
        {
          "output_type": "stream",
          "name": "stdout",
          "text": [
            "No match\n"
          ]
        }
      ]
    },
    {
      "cell_type": "code",
      "source": [
        "import re\n",
        "\n",
        "txt = \"amulya roll no is hu21csen0500091\"\n",
        "\n",
        "\n",
        "\n",
        "x = re.findall(\"^amulya\", txt)\n",
        "if x:\n",
        "  print(\"Yes, the string starts with amulya\")\n",
        "else:\n",
        "  print(\"No match\")"
      ],
      "metadata": {
        "colab": {
          "base_uri": "https://localhost:8080/"
        },
        "id": "fbIV42ToVUtj",
        "outputId": "077ef2b6-99a4-4679-9d93-d934820a9151"
      },
      "execution_count": null,
      "outputs": [
        {
          "output_type": "stream",
          "name": "stdout",
          "text": [
            "Yes, the string starts with amulya\n"
          ]
        }
      ]
    },
    {
      "cell_type": "code",
      "source": [
        "import re\n",
        "\n",
        "txt = \"amulya is going to college\"\n",
        "\n",
        "\n",
        "x = re.findall(\"am.*l\", txt)\n",
        "\n",
        "print(x)"
      ],
      "metadata": {
        "colab": {
          "base_uri": "https://localhost:8080/"
        },
        "id": "aOaXKcyyV8Cb",
        "outputId": "843f8240-3c9f-4fa0-b8f4-87d23e299c65"
      },
      "execution_count": null,
      "outputs": [
        {
          "output_type": "stream",
          "name": "stdout",
          "text": [
            "['amulya is going to coll']\n"
          ]
        }
      ]
    },
    {
      "cell_type": "code",
      "source": [
        "import re\n",
        "\n",
        "txt = \"amulya madiraju\"\n",
        "\n",
        "\n",
        "x = re.findall(\"am.?j\", txt)\n",
        "\n",
        "print(x)\n"
      ],
      "metadata": {
        "colab": {
          "base_uri": "https://localhost:8080/"
        },
        "id": "-Q8fg4w5X9Vi",
        "outputId": "e82158f7-96a6-4815-972c-8fb8b8553531"
      },
      "execution_count": null,
      "outputs": [
        {
          "output_type": "stream",
          "name": "stdout",
          "text": [
            "[]\n"
          ]
        }
      ]
    },
    {
      "cell_type": "code",
      "source": [
        "import re\n",
        "\n",
        "txt = \"amulya madiraju\"\n",
        "\n",
        "\n",
        "x = re.findall(\"am.?u\", txt)\n",
        "\n",
        "print(x)"
      ],
      "metadata": {
        "colab": {
          "base_uri": "https://localhost:8080/"
        },
        "id": "sOyzRMM7XtkT",
        "outputId": "d4c53c49-c505-4738-eeb3-0e54eb6fabc7"
      },
      "execution_count": null,
      "outputs": [
        {
          "output_type": "stream",
          "name": "stdout",
          "text": [
            "['amu']\n"
          ]
        }
      ]
    },
    {
      "cell_type": "code",
      "source": [
        "import re\n",
        "\n",
        "txt = \"At the end of the day, whether or not those people are comfortable with how you’re living your life doesn’t matter. What matters is whether you’re comfortable with it.!\"\n",
        "\n",
        "\n",
        "\n",
        "x = re.findall(\"comfortable|day\", txt)\n",
        "\n",
        "print(x)\n",
        "\n",
        "if x:\n",
        "  print(\"Yes, there is at least one match!\")\n",
        "else:\n",
        "  print(\"No match\")"
      ],
      "metadata": {
        "colab": {
          "base_uri": "https://localhost:8080/"
        },
        "id": "Lx9fS5PnYZ5j",
        "outputId": "1bd93f05-e321-4096-f6dc-c955c6e1f086"
      },
      "execution_count": null,
      "outputs": [
        {
          "output_type": "stream",
          "name": "stdout",
          "text": [
            "['day', 'comfortable', 'comfortable']\n",
            "Yes, there is at least one match!\n"
          ]
        }
      ]
    },
    {
      "cell_type": "code",
      "source": [],
      "metadata": {
        "id": "NjxCIxz75r8D"
      },
      "execution_count": null,
      "outputs": []
    },
    {
      "cell_type": "code",
      "source": [],
      "metadata": {
        "id": "VpC5iRZC6DnI"
      },
      "execution_count": null,
      "outputs": []
    },
    {
      "cell_type": "markdown",
      "source": [
        "practice with \\A"
      ],
      "metadata": {
        "id": "eA-6gp2W5cyv"
      }
    },
    {
      "cell_type": "code",
      "source": [
        "import re\n",
        "\n",
        "txt = \"The traffic in hyderabad is terrible\"\n",
        "\n",
        "\n",
        "x = re.findall(\"\\AThe\", txt)\n",
        "\n",
        "print(x)\n",
        "\n",
        "if x:\n",
        "  print(\"Yes, there is a match!\")\n",
        "else:\n",
        "  print(\"No match\")"
      ],
      "metadata": {
        "colab": {
          "base_uri": "https://localhost:8080/"
        },
        "id": "6ziodnqa5Scl",
        "outputId": "b0e2feea-4d57-427d-ed70-1286093fba30"
      },
      "execution_count": null,
      "outputs": [
        {
          "output_type": "stream",
          "name": "stdout",
          "text": [
            "['The']\n",
            "Yes, there is a match!\n"
          ]
        }
      ]
    },
    {
      "cell_type": "code",
      "source": [
        "import re\n",
        "\n",
        "txt = \"The traffic in hyderabad is terrible\"\n",
        "\n",
        "\n",
        "x = re.findall(\"\\bThe\", txt)\n",
        "\n",
        "print(x)\n",
        "\n",
        "if x:\n",
        "  print(\"Yes, there is a match!\")\n",
        "else:\n",
        "  print(\"No match\")"
      ],
      "metadata": {
        "colab": {
          "base_uri": "https://localhost:8080/"
        },
        "id": "owdiiXUZ5kr0",
        "outputId": "72480492-da02-4653-9e8a-0261faa7ed6c"
      },
      "execution_count": null,
      "outputs": [
        {
          "output_type": "stream",
          "name": "stdout",
          "text": [
            "[]\n",
            "No match\n"
          ]
        }
      ]
    },
    {
      "cell_type": "code",
      "source": [
        "import re\n",
        "\n",
        "txt = \"my name is amulya my ooru is hyderabad\"\n",
        "\n",
        "\n",
        "x = re.findall(r\"bad\\b\", txt)\n",
        "\n",
        "print(x)\n",
        "\n",
        "if x:\n",
        "  print(\"Yes, there is at least one match!\")\n",
        "else:\n",
        "  print(\"No match\")"
      ],
      "metadata": {
        "colab": {
          "base_uri": "https://localhost:8080/"
        },
        "id": "OTtE-X1K6Fbz",
        "outputId": "678b6668-1e21-4f66-97ca-3f4987aaf00f"
      },
      "execution_count": null,
      "outputs": [
        {
          "output_type": "stream",
          "name": "stdout",
          "text": [
            "['bad']\n",
            "Yes, there is at least one match!\n"
          ]
        }
      ]
    },
    {
      "cell_type": "code",
      "source": [
        "import re\n",
        "\n",
        "txt = \"The earthquake in delhi was 7.6ricterscale\"\n",
        "\n",
        "\n",
        "x = re.findall(\"\\d\", txt)\n",
        "\n",
        "print(x)\n",
        "\n",
        "if x:\n",
        "  print(\"Yes, there is at least one match!\")\n",
        "else:\n",
        "  print(\"No match\")\n"
      ],
      "metadata": {
        "colab": {
          "base_uri": "https://localhost:8080/"
        },
        "id": "86WI2Doj6vGK",
        "outputId": "294e03a0-b378-489b-98f9-0601f2926689"
      },
      "execution_count": null,
      "outputs": [
        {
          "output_type": "stream",
          "name": "stdout",
          "text": [
            "['7', '6']\n",
            "Yes, there is at least one match!\n"
          ]
        }
      ]
    }
  ]
}