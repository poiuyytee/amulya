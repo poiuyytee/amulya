{
  "nbformat": 4,
  "nbformat_minor": 0,
  "metadata": {
    "colab": {
      "provenance": [],
      "authorship_tag": "ABX9TyNkWAsviX9aGhWAjegeTIYp",
      "include_colab_link": true
    },
    "kernelspec": {
      "name": "python3",
      "display_name": "Python 3"
    },
    "language_info": {
      "name": "python"
    }
  },
  "cells": [
    {
      "cell_type": "markdown",
      "metadata": {
        "id": "view-in-github",
        "colab_type": "text"
      },
      "source": [
        "<a href=\"https://colab.research.google.com/github/poiuyytee/amulya/blob/main/week2_amulya.ipynb\" target=\"_parent\"><img src=\"https://colab.research.google.com/assets/colab-badge.svg\" alt=\"Open In Colab\"/></a>"
      ]
    },
    {
      "cell_type": "code",
      "execution_count": 5,
      "metadata": {
        "colab": {
          "base_uri": "https://localhost:8080/"
        },
        "id": "Zk6ZWk6Remqi",
        "outputId": "4de99978-e5e5-413f-cb92-f5d6ddecb924"
      },
      "outputs": [
        {
          "output_type": "stream",
          "name": "stdout",
          "text": [
            "Enter a sentence or paragraph: Corruption is a pervasive and insidious issue that plagues societies across the globe, transcending geographical boundaries and cultural differences. It is an unethical and unlawful practice where individuals in positions of power or authority misuse their influence for personal gain, thereby undermining the principles of justice, fairness, and public trust.  One of the fundamental facets of corruption is bribery, where officials or individuals offer and accept money or gifts to manipulate decisions or actions in their favor. This corrodes the very foundations of a just and equitable society, as it skews the balance of power and perpetuates a culture of dishonesty. From the smallest bureaucratic offices to the highest echelons of government, the corrosive influence of corruption infiltrates various sectors, hindering progress and development.\n",
            "Word count: 124\n"
          ]
        }
      ],
      "source": [
        "# Week 2 Project: Word Counter\n",
        "\n",
        "# Function to count words in a given text\n",
        "def count_words(text):\n",
        "    # Split the text into words using whitespace as the separator\n",
        "    words = text.split()\n",
        "\n",
        "    # Return the count of words\n",
        "    return len(words)\n",
        "\n",
        "# Function for user input handling\n",
        "def get_user_input():\n",
        "    # Prompt the user to enter a sentence or paragraph\n",
        "    user_input = input(\"Enter a sentence or paragraph: \")\n",
        "    return user_input\n",
        "\n",
        "# Function for displaying the word count\n",
        "def display_word_count(word_count):\n",
        "    # Display the word count to the console\n",
        "    print(f\"Word count: {word_count}\")\n",
        "\n",
        "# Main function to orchestrate the program\n",
        "def main():\n",
        "    # Prompt user for input\n",
        "    user_text = get_user_input()\n",
        "\n",
        "    # Check for empty input\n",
        "    if not user_text.strip():\n",
        "        print(\"Error: Empty input. Please enter a valid text.\")\n",
        "        return\n",
        "\n",
        "    # Count words\n",
        "    word_count = count_words(user_text)\n",
        "\n",
        "    # Display the result\n",
        "    display_word_count(word_count)\n",
        "\n",
        "# Run the program\n",
        "if __name__ == \"__main__\":\n",
        "    main()\n",
        "\n"
      ]
    },
    {
      "cell_type": "markdown",
      "source": [
        "**Design Choices:**\n",
        "\n",
        "Modular Code: The code is organized into functions for better readability, reusability, and maintenance. Each function has a specific purpose, such as handling input, counting words, and displaying output.\n",
        "\n",
        "User-Friendly Interface: The user is prompted to enter a sentence or paragraph, and meaningful messages are displayed to guide the user. Error messages are provided for empty input.\n",
        "\n",
        "Error Handling: The program checks for empty input and provides an error message if the user enters no text.\n",
        "\n",
        "**Challenges:**\n",
        "\n",
        "Handling Paragraphs: The initial implementation assumed a single line of text. To handle paragraphs, the word counting logic was updated to consider multiple lines.\n",
        "\n",
        "User Interface: Striking a balance between simplicity and user-friendliness was a challenge. The prompt is clear, and error messages are informative without being overly complex.\n",
        "\n",
        "**Features:**\n",
        "\n",
        "Word Counting Logic: The count_words function accurately counts words in the input text, considering whitespace as the separator.\n",
        "\n",
        "User Input Handling: The get_user_input function prompts the user for input, ensuring a dynamic and interactive experience.\n",
        "\n",
        "Output Display: The display_word_count function shows the word count to the user in a clear and concise format.\n",
        "\n",
        "**Document Explaining Choices:**\n",
        "\n",
        "The code was designed with simplicity and clarity in mind. Modular functions were created to enhance readability and allow for easy modification or expansion. The user interface aims to guide the user effectively, and error handling ensures a robust program.\n",
        "\n",
        "Handling paragraphs required an adjustment to the word counting logic, splitting the text into lines and counting words in each line. This adaptation ensures the program is versatile and can handle various input scenarios.\n",
        "\n",
        "In conclusion, the Word Counter project aligns with the outlined objectives, emphasizing input handling, string manipulation, function creation, control flow, and output display. The design choices prioritize user-friendliness, simplicity, and effective error handling.\n"
      ],
      "metadata": {
        "id": "0b--rjcqf6fQ"
      }
    }
  ]
}