{
  "cells": [
    {
      "cell_type": "markdown",
      "metadata": {
        "id": "view-in-github",
        "colab_type": "text"
      },
      "source": [
        "<a href=\"https://colab.research.google.com/github/poiuyytee/amulya/blob/main/eliminating_attacks_that_use_otps.ipynb\" target=\"_parent\"><img src=\"https://colab.research.google.com/assets/colab-badge.svg\" alt=\"Open In Colab\"/></a>"
      ]
    },
    {
      "cell_type": "code",
      "execution_count": null,
      "metadata": {
        "colab": {
          "base_uri": "https://localhost:8080/"
        },
        "id": "tVapA8XM1lsG",
        "outputId": "8f391de0-e3a0-431b-c764-a3e94cd816ee"
      },
      "outputs": [
        {
          "name": "stdout",
          "output_type": "stream",
          "text": [
            "Collecting pyotp\n",
            "  Downloading pyotp-2.9.0-py3-none-any.whl (13 kB)\n",
            "Installing collected packages: pyotp\n",
            "Successfully installed pyotp-2.9.0\n"
          ]
        }
      ],
      "source": [
        "Eliminating Vulnerable Attacks Using One-Time Password and Pass Text\n"
      ]
    },
    {
      "cell_type": "code",
      "execution_count": null,
      "metadata": {
        "colab": {
          "background_save": true,
          "base_uri": "https://localhost:8080/"
        },
        "id": "Jdg9Pni31ndk",
        "outputId": "b877e797-33fb-496d-9b67-09516c84bad2"
      },
      "outputs": [
        {
          "name": "stdout",
          "output_type": "stream",
          "text": [
            "Generated OTP: None\n",
            "Generated Pass Text: 0e1f56f1\n"
          ]
        }
      ],
      "source": [
        "import pyotp\n",
        "import hashlib\n",
        "\n",
        "def generate_otp(secret_key):\n",
        "    totp = pyotp.TOTP(secret_key)\n",
        "\n",
        "def generate_pass_text(username, static_salt):\n",
        "    text_to_hash = username + static_salt\n",
        "    hashed_text = hashlib.sha256(text_to_hash.encode()).hexdigest()\n",
        "    return hashed_text[:8]\n",
        "\n",
        "def authenticate(username, password_attempt, secret_key, static_salt):\n",
        "    expected_pass_text = generate_pass_text(username, static_salt)\n",
        "    expected_otp = generate_otp(secret_key)\n",
        "\n",
        "    # Combining Pass Text and OTP for comparison\n",
        "    combined_password = expected_pass_text + expected_otp\n",
        "\n",
        "    return password_attempt == combined_password\n",
        "\n",
        "if __name__ == \"__main__\":\n",
        "    # Sample user data\n",
        "    username = \"john_doe\"\n",
        "    secret_key = \"12345\"  # Replace with a secure secret key\n",
        "    static_salt = \"1357\"  # Replace with a secure static salt\n",
        "\n",
        "    # Generate OTP\n",
        "    otp = generate_otp(12345)\n",
        "    print(f\"Generated OTP: {otp}\")\n",
        "\n",
        "    # Generate Pass Text\n",
        "    pass_text = generate_pass_text(username, static_salt)\n",
        "    print(f\"Generated Pass Text: {pass_text}\")\n",
        "\n",
        "    # Simulate authentication attempt\n",
        "    password_attempt = input(\"Enter your password (Pass Text + OTP): \")\n",
        "\n",
        "    # Authenticate\n",
        "    if authenticate(username, password_attempt, secret_key, static_salt):\n",
        "        print(\"Authentication successful!\")\n",
        "    else:\n",
        "        print(\"Authentication failed. Please try again.\")\n"
      ]
    }
  ],
  "metadata": {
    "colab": {
      "provenance": [],
      "include_colab_link": true
    },
    "kernelspec": {
      "display_name": "Python 3",
      "name": "python3"
    },
    "language_info": {
      "name": "python"
    }
  },
  "nbformat": 4,
  "nbformat_minor": 0
}