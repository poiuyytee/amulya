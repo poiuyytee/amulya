{
  "cells": [
    {
      "cell_type": "markdown",
      "metadata": {
        "id": "view-in-github",
        "colab_type": "text"
      },
      "source": [
        "<a href=\"https://colab.research.google.com/github/poiuyytee/amulya/blob/main/stack.ipynb\" target=\"_parent\"><img src=\"https://colab.research.google.com/assets/colab-badge.svg\" alt=\"Open In Colab\"/></a>"
      ]
    },
    {
      "cell_type": "code",
      "execution_count": null,
      "metadata": {
        "colab": {
          "background_save": true,
          "base_uri": "https://localhost:8080/"
        },
        "id": "_mYC8SRznP4b",
        "outputId": "8c447014-2360-437e-8434-105714cdbf1c"
      },
      "outputs": [
        {
          "name": "stdout",
          "output_type": "stream",
          "text": [
            "no.of elements on stack 0\n",
            "-> 7\n",
            "-> 6\n",
            "-> 4\n",
            "-> 3\n"
          ]
        }
      ],
      "source": [
        "class Node:\n",
        "    def __init__(self,data):\n",
        "       self.data=data\n",
        "       self.link=None\n",
        "class stack:\n",
        "    def __init__(self):\n",
        "        self.top=None\n",
        "        self.count=0\n",
        "    def push(self,ele):\n",
        "        cur=Node(ele)\n",
        "        if(self.top==None):\n",
        "            self.top=cur\n",
        "        else:\n",
        "            cur.link=self.top\n",
        "            self.top=cur\n",
        "    def pop(self):\n",
        "        cur=self.top\n",
        "        self.top=self.top.link\n",
        "        cur.link=None\n",
        "        return(cur.data)\n",
        "    def isempty(self):\n",
        "        if(self.top==None):\n",
        "            return 1\n",
        "        else:\n",
        "            return 0\n",
        "    def peek(self):\n",
        "        return self.top.data\n",
        "\n",
        "    def display(self):\n",
        "        cur=self.top\n",
        "        self.count=0\n",
        "        while cur is not None:\n",
        "           print('->',cur.data)\n",
        "           cur=cur.link\n",
        "           self.count=self.count+1\n",
        "\n",
        "s=stack()\n",
        "while(True):\n",
        "  ch=int(input(\"1.push 2.pop 3.display 4.peek 5.no.of elements 6.exit\\n\"))\n",
        "  if(ch==1):\n",
        "      item=int(input(\"enter element to push in stack\\n\"))\n",
        "      s.push(item)\n",
        "  elif(ch==2):\n",
        "      if(s.isempty()):\n",
        "          print(\"stack underflow\")\n",
        "      else:\n",
        "          print(s.pop())\n",
        "  elif(ch==3):\n",
        "      if(s.isempty()):\n",
        "          print(\"stack underflow\")\n",
        "      else:\n",
        "          s.display()\n",
        "  elif(ch==4):\n",
        "      print(s.peek())\n",
        "  elif(ch==5):\n",
        "      print(\"no.of elements on stack\",s.count)\n",
        "  elif(ch==6):\n",
        "    exit()"
      ]
    }
  ],
  "metadata": {
    "colab": {
      "provenance": [],
      "include_colab_link": true
    },
    "kernelspec": {
      "display_name": "Python 3",
      "name": "python3"
    },
    "language_info": {
      "name": "python"
    }
  },
  "nbformat": 4,
  "nbformat_minor": 0
}