{
  "nbformat": 4,
  "nbformat_minor": 0,
  "metadata": {
    "colab": {
      "provenance": [],
      "include_colab_link": true
    },
    "kernelspec": {
      "name": "python3",
      "display_name": "Python 3"
    },
    "language_info": {
      "name": "python"
    }
  },
  "cells": [
    {
      "cell_type": "markdown",
      "metadata": {
        "id": "view-in-github",
        "colab_type": "text"
      },
      "source": [
        "<a href=\"https://colab.research.google.com/github/poiuyytee/amulya/blob/main/python_project3(password_manager).ipynb\" target=\"_parent\"><img src=\"https://colab.research.google.com/assets/colab-badge.svg\" alt=\"Open In Colab\"/></a>"
      ]
    },
    {
      "cell_type": "code",
      "execution_count": null,
      "metadata": {
        "colab": {
          "base_uri": "https://localhost:8080/"
        },
        "id": "QLcAlh9sYDxm",
        "outputId": "15cc0b44-256c-4b9b-b790-7e4f0abc0e45"
      },
      "outputs": [
        {
          "name": "stdout",
          "output_type": "stream",
          "text": [
            "What is your password?\n",
            "123456\n",
            "Your safe has been created!\n",
            "What would you like to store in it today?\n",
            "\n",
            "***************\n",
            "Commands:\n",
            "q = quit program\n",
            "gp = get password\n",
            "sp = store password\n",
            "***************\n",
            ":gp\n",
            "What is the name of the service?\n",
            "soumya\n",
            "\n",
            "Soumya password:\n",
            "0173ec496e5452f\n",
            "\n",
            "***************\n",
            "Commands:\n",
            "q = quit program\n",
            "gp = get password\n",
            "sp = store password\n",
            "***************\n",
            ":sp\n",
            "What is the name of the service?\n",
            "amulya\n",
            "\n",
            "Amulya password created:\n",
            "c35cf8d2076644a\n",
            "\n",
            "***************\n",
            "Commands:\n",
            "q = quit program\n",
            "gp = get password\n",
            "sp = store password\n",
            "***************\n",
            ":q\n"
          ]
        }
      ],
      "source": [
        "import sqlite3\n",
        "from hashlib import sha256\n",
        "\n",
        "\n",
        "ADMIN_PASSWORD = \"123456\"\n",
        "\n",
        "connect = input(\"What is your password?\\n\")\n",
        "\n",
        "while connect != ADMIN_PASSWORD:\n",
        "    connect = input(\"What is your password?\\n\")\n",
        "    if connect == \"q\":\n",
        "        break\n",
        "\n",
        "conn = sqlite3.connect('pass_manager.db')\n",
        "\n",
        "def create_password(pass_key, service, admin_pass):\n",
        "    return sha256(admin_pass.encode('utf-8') + service.lower().encode('utf-8') + pass_key.encode('utf-8')).hexdigest()[:15]\n",
        "\n",
        "def get_hex_key(admin_pass, service):\n",
        "    return sha256(admin_pass.encode('utf-8') + service.lower().encode('utf-8')).hexdigest()\n",
        "\n",
        "def get_password(admin_pass, service):\n",
        "    secret_key = get_hex_key(admin_pass, service)\n",
        "    cursor = conn.execute(\"SELECT * from KEYS WHERE PASS_KEY=\" + '\"' + secret_key + '\"')\n",
        "\n",
        "    file_string = \"\"\n",
        "    for row in cursor:\n",
        "        file_string = row[0]\n",
        "    return create_password(file_string, service, admin_pass)\n",
        "\n",
        "def add_password(service, admin_pass):\n",
        "    secret_key = get_hex_key(admin_pass, service)\n",
        "\n",
        "    command = 'INSERT INTO KEYS (PASS_KEY) VALUES (%s);' %('\"' + secret_key +'\"')\n",
        "    conn.execute(command)\n",
        "    conn.commit()\n",
        "    return create_password(secret_key, service, admin_pass)\n",
        "\n",
        "if connect == ADMIN_PASSWORD:\n",
        "    try:\n",
        "        conn.execute('''CREATE TABLE KEYS\n",
        "            (PASS_KEY TEXT PRIMARY KEY NOT NULL);''')\n",
        "        print(\"Your safe has been created!\\nWhat would you like to store in it today?\")\n",
        "    except:\n",
        "        print(\"You have a safe, what would you like to do today?\")\n",
        "\n",
        "\n",
        "    while True:\n",
        "        print(\"\\n\"+ \"*\"*15)\n",
        "        print(\"Commands:\")\n",
        "        print(\"q = quit program\")\n",
        "        print(\"gp = get password\")\n",
        "        print(\"sp = store password\")\n",
        "        print(\"*\"*15)\n",
        "        input_ = input(\":\")\n",
        "\n",
        "        if input_ == \"q\":\n",
        "            break\n",
        "        if input_ == \"sp\":\n",
        "            service = input(\"What is the name of the service?\\n\")\n",
        "            print(\"\\n\" + service.capitalize() + \" password created:\\n\" + add_password(service, ADMIN_PASSWORD))\n",
        "        if input_ == \"gp\":\n",
        "            service = input(\"What is the name of the service?\\n\")\n",
        "            print(\"\\n\" + service.capitalize() + \" password:\\n\"+get_password(ADMIN_PASSWORD, service))"
      ]
    }
  ]
}